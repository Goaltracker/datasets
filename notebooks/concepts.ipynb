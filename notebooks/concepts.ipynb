{
 "cells": [
  {
   "cell_type": "code",
   "execution_count": 16,
   "metadata": {},
   "outputs": [
    {
     "name": "stderr",
     "output_type": "stream",
     "text": [
      "WARNING:root:skipping file .DS_Store\n",
      "WARNING:root:skipping file .~lock.ddf--concepts.csv#\n",
      "WARNING:root:skipping file validation-2019-11-14T002709.365Z.log\n"
     ]
    }
   ],
   "source": [
    "import ddf_utils\n",
    "import numpy as np\n",
    "import pandas as pd\n",
    "\n",
    "output = \"ddf-goaltracker-sweden/\"\n",
    "\n",
    "df = pd.read_csv(\"sweden/data.csv\")\n",
    "meta = ddf_utils.create_datapackage(output)\n",
    "\n",
    "\n",
    "#pd.isnull(df.var2)df[\"Cou#ntry\"][2]"
   ]
  },
  {
   "cell_type": "code",
   "execution_count": null,
   "metadata": {},
   "outputs": [],
   "source": []
  },
  {
   "cell_type": "code",
   "execution_count": null,
   "metadata": {},
   "outputs": [],
   "source": []
  },
  {
   "cell_type": "code",
   "execution_count": null,
   "metadata": {},
   "outputs": [],
   "source": []
  }
 ],
 "metadata": {
  "kernelspec": {
   "display_name": "notebooks",
   "language": "python",
   "name": "notebooks"
  },
  "language_info": {
   "codemirror_mode": {
    "name": "ipython",
    "version": 3
   },
   "file_extension": ".py",
   "mimetype": "text/x-python",
   "name": "python",
   "nbconvert_exporter": "python",
   "pygments_lexer": "ipython3",
   "version": "3.7.3"
  }
 },
 "nbformat": 4,
 "nbformat_minor": 4
}
